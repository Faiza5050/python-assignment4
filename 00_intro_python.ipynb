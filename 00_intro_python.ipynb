{
  "nbformat": 4,
  "nbformat_minor": 0,
  "metadata": {
    "colab": {
      "provenance": [],
      "authorship_tag": "ABX9TyNaS8mMlFwjH76ihhWJvvZI",
      "include_colab_link": true
    },
    "kernelspec": {
      "name": "python3",
      "display_name": "Python 3"
    },
    "language_info": {
      "name": "python"
    }
  },
  "cells": [
    {
      "cell_type": "markdown",
      "metadata": {
        "id": "view-in-github",
        "colab_type": "text"
      },
      "source": [
        "<a href=\"https://colab.research.google.com/github/Faiza5050/python-assignment4/blob/main/00_intro_python.ipynb\" target=\"_parent\"><img src=\"https://colab.research.google.com/assets/colab-badge.svg\" alt=\"Open In Colab\"/></a>"
      ]
    },
    {
      "cell_type": "code",
      "execution_count": null,
      "metadata": {
        "id": "g94AWOjhbrQC"
      },
      "outputs": [],
      "source": []
    },
    {
      "cell_type": "code",
      "source": [
        "print(\"01_add_two_numbers\")\n",
        "\n",
        "def add():\n",
        "  print(\"Add Two Numbers\")\n",
        "  first_num = int(input(\"Enter Your First Number: \"))\n",
        "  second_num = int(input(\"Enter Your Second Number: \"))\n",
        "  sum = int(first_num + second_num)\n",
        "  print(f'The Sum of {first_num} and {second_num} is {sum}.')\n",
        "\n",
        "if __name__ == \"__main__\":\n",
        "  add()"
      ],
      "metadata": {
        "colab": {
          "base_uri": "https://localhost:8080/"
        },
        "id": "TqYt-4Izdhf1",
        "outputId": "8d5b73aa-c741-46ee-b0b4-8060b2fc34a2"
      },
      "execution_count": null,
      "outputs": [
        {
          "output_type": "stream",
          "name": "stdout",
          "text": [
            "01_add_two_numbers\n",
            "Add Two Numbers\n",
            "Enter Your First Number: 8\n",
            "Enter Your Second Number: 8\n",
            "The Sum of 8 and 8 is 16.\n"
          ]
        }
      ]
    },
    {
      "cell_type": "code",
      "source": [],
      "metadata": {
        "id": "VuFaCGz7sJ4n"
      },
      "execution_count": null,
      "outputs": []
    },
    {
      "cell_type": "code",
      "source": [
        "print(\"02_agreement_bot\")\n",
        "\n",
        "def agree():\n",
        "  animal = str(input(\"What's Your Favorite Animal? \"))\n",
        "  print(f'My Favorite Animal is also {animal}!')\n",
        "\n",
        "if __name__ == \"__main__\":\n",
        "  agree()"
      ],
      "metadata": {
        "colab": {
          "base_uri": "https://localhost:8080/"
        },
        "id": "Y-dqbJZbpCzs",
        "outputId": "a5249761-4ecd-4f88-cda2-b5124204490a"
      },
      "execution_count": null,
      "outputs": [
        {
          "output_type": "stream",
          "name": "stdout",
          "text": [
            "02_agreement_bot\n",
            "What's Your Favorite Animal? COW\n",
            "My favorite animal is also COW!\n"
          ]
        }
      ]
    },
    {
      "cell_type": "code",
      "source": [
        "print(\"03_fahrenheit_to_celsius\")\n",
        "\n",
        "def temp():\n",
        "  print(\"Convert Temperature\")\n",
        "\n",
        "  fahrenheit = float(input(\"Enter Degree in Fahrenheit: \"))\n",
        "  celsius = (fahrenheit - 32) * 5.0/9.0\n",
        "  print(f'Temperature {fahrenheit}°F = {celsius}°C.')\n",
        "\n",
        "if __name__ == \"__main__\":\n",
        "  temp()"
      ],
      "metadata": {
        "id": "7iWkGCnTsNDl",
        "colab": {
          "base_uri": "https://localhost:8080/"
        },
        "outputId": "c44d287a-f196-4595-f2af-b1e471213d92"
      },
      "execution_count": 9,
      "outputs": [
        {
          "output_type": "stream",
          "name": "stdout",
          "text": [
            "03_fahrenheit_to_celsius\n",
            "Convert Temperature\n",
            "Enter Degree in Fahrenheit: 78\n",
            "Temperature 78.0°F = 25.555555555555557°C.\n"
          ]
        }
      ]
    },
    {
      "cell_type": "code",
      "source": [
        "print(\"04_how_old_are_they\")\n",
        "\n",
        "def ages():\n",
        "  anton:int = 21\n",
        "  beth:int = anton + 6\n",
        "  chen:int = beth + 20\n",
        "  drew:int = chen + anton\n",
        "  ethan:int = chen\n",
        "\n",
        "  print(\"Anton is \" + str(anton))\n",
        "  print(\"Beth is \" + str(beth))\n",
        "  print(\"Chen is \" + str(chen))\n",
        "  print(\"Drew is \" + str(drew))\n",
        "  print(\"Ethan is \" + str(ethan))\n",
        "\n",
        "if __name__ == \"__main__\":\n",
        "  ages()"
      ],
      "metadata": {
        "colab": {
          "base_uri": "https://localhost:8080/"
        },
        "id": "_BapkmZrzxKM",
        "outputId": "d1575d6b-8bf9-4df6-a74d-a21eb6979f35"
      },
      "execution_count": 14,
      "outputs": [
        {
          "output_type": "stream",
          "name": "stdout",
          "text": [
            "04_how_old_are_they\n",
            "Anton is 21\n",
            "Beth is 27\n",
            "Chen is 47\n",
            "Drew is 68\n",
            "Ethan is 47\n"
          ]
        }
      ]
    },
    {
      "cell_type": "code",
      "source": [
        "print(\"05_triangle_perimeter\")\n",
        "\n",
        "def triangle():\n",
        "  print(\"Perimeter of the Triangle\")\n",
        "  side1:float = float(input(\"What is the Length of Side 1? \"))\n",
        "  side2:float = float(input(\"What is the Length of Side 2? \"))\n",
        "  side3:float = float(input(\"What is the Length of Side 3? \"))\n",
        "  sum:float = float(side1 + side2 + side3)\n",
        "  print(f'The perimeter of the Triangle is {sum}')\n",
        "\n",
        "if __name__ == \"__main__\":\n",
        "  triangle()"
      ],
      "metadata": {
        "colab": {
          "base_uri": "https://localhost:8080/"
        },
        "id": "ARl1Ky_V5myg",
        "outputId": "b27b6664-a566-40bb-f523-80ae32701ad6"
      },
      "execution_count": 19,
      "outputs": [
        {
          "output_type": "stream",
          "name": "stdout",
          "text": [
            "05_triangle_perimeter\n",
            "Perimeter of the Triangle\n",
            "What is the Length of Side 1? 2\n",
            "What is the Length of Side 2? 2\n",
            "What is the Length of Side 3? 5\n",
            "<p><b><i>The perimeter of the Triangle is 9.0</i></b></p>\n"
          ]
        }
      ]
    },
    {
      "cell_type": "code",
      "source": [
        "print(\"06_square_number\")\n",
        "\n",
        "def square():\n",
        "  print(\"Square of a Number\")\n",
        "  num:int = int(input(\"Enter a Number: \"))\n",
        "  print(f'The Square of {num} is {num ** 2}.')\n",
        "\n",
        "if __name__ == \"__main__\":\n",
        "  square()"
      ],
      "metadata": {
        "colab": {
          "base_uri": "https://localhost:8080/"
        },
        "id": "-wnKQ5kd-Kdr",
        "outputId": "16ef209e-6690-47ee-a317-e5ede50237fb"
      },
      "execution_count": 21,
      "outputs": [
        {
          "output_type": "stream",
          "name": "stdout",
          "text": [
            "06_square_number\n",
            "Square of a Number\n",
            "Enter a Number: 4\n",
            "The Square of 4 is 16.\n"
          ]
        }
      ]
    }
  ]
}