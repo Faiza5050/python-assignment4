{
  "nbformat": 4,
  "nbformat_minor": 0,
  "metadata": {
    "colab": {
      "provenance": [],
      "authorship_tag": "ABX9TyPZ4xX5AKACIdKuyKhsNIwV",
      "include_colab_link": true
    },
    "kernelspec": {
      "name": "python3",
      "display_name": "Python 3"
    },
    "language_info": {
      "name": "python"
    }
  },
  "cells": [
    {
      "cell_type": "markdown",
      "metadata": {
        "id": "view-in-github",
        "colab_type": "text"
      },
      "source": [
        "<a href=\"https://colab.research.google.com/github/Faiza5050/python-assignment4/blob/main/01_expressions.ipynb\" target=\"_parent\"><img src=\"https://colab.research.google.com/assets/colab-badge.svg\" alt=\"Open In Colab\"/></a>"
      ]
    },
    {
      "cell_type": "code",
      "source": [
        "import random\n",
        "\n",
        "print(\"01_dicesimulator\")\n",
        "\n",
        "def dice():\n",
        "  roll1:int = random.randint(1,6)\n",
        "  roll2:int = random.randint(1,6)\n",
        "  total:int = roll1 + roll2\n",
        "  print(f'Total of Two Dices: {total}')\n",
        "\n",
        "def main():\n",
        "  roll1:int = 10\n",
        "  print(\"Roll1 in main() start as :\" + str(roll1))\n",
        "  dice()\n",
        "  dice()\n",
        "  dice()\n",
        "  print(\"Roll1 in main() is: \" + str(roll1))\n",
        "\n",
        "if __name__ == \"__main__\":\n",
        "  main()"
      ],
      "metadata": {
        "colab": {
          "base_uri": "https://localhost:8080/"
        },
        "id": "ep_k70HYF6zi",
        "outputId": "b4611302-1960-421b-96de-388a5d0e177e"
      },
      "execution_count": 9,
      "outputs": [
        {
          "output_type": "stream",
          "name": "stdout",
          "text": [
            "01_dicesimulator\n",
            "Roll1 in main() start as :10\n",
            "Total of Two Dices: 7\n",
            "Total of Two Dices: 5\n",
            "Total of Two Dices: 5\n",
            "Roll1 in main() is: 10\n"
          ]
        }
      ]
    },
    {
      "cell_type": "code",
      "source": [
        "print(\"02_e=mc2\")\n",
        "\n",
        "def energy():\n",
        "  c:float = 299792458\n",
        "  m:float = float(input(\"Enter Kilos of Mass: \"))\n",
        "  print(\"e = m * C^2\")\n",
        "  print(\"Mass = \" + str(m) + \" Kg\")\n",
        "  print(\"C = \" + str(c) + \" m/s\")\n",
        "  print(\"e = \" + str(m * c ** 2) + \" joules\")\n",
        "\n",
        "if __name__ == \"__main__\":\n",
        "  energy()"
      ],
      "metadata": {
        "colab": {
          "base_uri": "https://localhost:8080/"
        },
        "id": "zaIDaHfEQdVP",
        "outputId": "b6ad630d-0429-48b6-ed7b-a2dc0d6b5671"
      },
      "execution_count": 17,
      "outputs": [
        {
          "output_type": "stream",
          "name": "stdout",
          "text": [
            "02_e=mc2\n",
            "Enter Kilos of Mass: 100\n",
            "e = m * C^2\n",
            "Mass = 100.0 Kg\n",
            "C = 299792458 m/s\n",
            "e = 8.987551787368176e+18 joules\n"
          ]
        }
      ]
    },
    {
      "cell_type": "code",
      "source": [
        "print(\"03_feet_to_inches\")\n",
        "\n",
        "inch:int = 12\n",
        "def foot():\n",
        "  feet:int = int(input(\"Enter Number in Feet: \"))\n",
        "  print(f'There are {inch * feet} Inches in {feet} Feet.')\n",
        "\n",
        "if __name__ == \"__main__\":\n",
        "  foot()"
      ],
      "metadata": {
        "colab": {
          "base_uri": "https://localhost:8080/"
        },
        "id": "ZwY_lNTdVtzC",
        "outputId": "d0be3f18-7762-4fac-d4f2-55b75d1342ad"
      },
      "execution_count": 20,
      "outputs": [
        {
          "output_type": "stream",
          "name": "stdout",
          "text": [
            "03_feet_to_inches\n",
            "Enter Number in Feet: 1\n",
            "There are 12 Inches in 1 Feet.\n"
          ]
        }
      ]
    },
    {
      "cell_type": "code",
      "source": [
        "import math\n",
        "print(\"04_pythagorean_theorem\")\n",
        "\n",
        "def theorem():\n",
        "  ab:float = float(input(\"Enter the Length of AB: \"))\n",
        "  ac:float = float(input(\"Enter the Length of AC: \"))\n",
        "  bc:float = math.sqrt(ab**2 + ac**2)\n",
        "  print(f'The Length of BC (The Hypotenuse) is: {bc}.')\n",
        "\n",
        "if __name__ == \"__main__\":\n",
        "  theorem()"
      ],
      "metadata": {
        "colab": {
          "base_uri": "https://localhost:8080/"
        },
        "id": "empRXjYKYnuC",
        "outputId": "8c215da8-a67c-4ab1-cc76-bbc447ed5197"
      },
      "execution_count": 24,
      "outputs": [
        {
          "output_type": "stream",
          "name": "stdout",
          "text": [
            "04_pythagorean_theorem\n",
            "Enter the Length of AB: 9\n",
            "Enter the Length of AC: 9\n",
            "The Length of BC (The Hypotenuse) is: 12.727922061357855.\n"
          ]
        }
      ]
    },
    {
      "cell_type": "code",
      "source": [
        "print(\"05_remainder_division\")\n",
        "\n",
        "def remainder():\n",
        "  num1:int = int(input(\"Please Enter an integer to be Divided: \"))\n",
        "  num2:int = int(input(\"Please Enter an integer to Divide by: \"))\n",
        "  result:int = num1 // num2\n",
        "  remainder:int = num1 % num2\n",
        "  print(f'The Result of This Division is {result}, With a Remainder of {remainder}.')\n",
        "\n",
        "if __name__ == \"__main__\":\n",
        "  remainder()"
      ],
      "metadata": {
        "colab": {
          "base_uri": "https://localhost:8080/"
        },
        "id": "B1dil3hRb0Op",
        "outputId": "ca6dc55b-0c12-49da-dcf7-21e38067c3c9"
      },
      "execution_count": 26,
      "outputs": [
        {
          "output_type": "stream",
          "name": "stdout",
          "text": [
            "05_remainder_division\n",
            "Please Enter an integer to be Divided: 25\n",
            "Please Enter an integer to Divide by: 3\n",
            "The Result of This Division is 8, With a Remainder of 1.\n"
          ]
        }
      ]
    },
    {
      "cell_type": "code",
      "source": [
        "import random\n",
        "print(\"06_rolldice\")\n",
        "\n",
        "def dice():\n",
        "  dice1:int = random.randint(1,6)\n",
        "  dice2:int = random.randint(1,6)\n",
        "  total:int = int(dice1 + dice2)\n",
        "  print(f'First Die: {dice1}')\n",
        "  print(f'Second Die: {dice2}')\n",
        "  print(f'Total of Two Dices: {total}.')\n",
        "\n",
        "if __name__ == \"__main__\":\n",
        "  dice()"
      ],
      "metadata": {
        "colab": {
          "base_uri": "https://localhost:8080/"
        },
        "id": "HN-dlwvxfhqH",
        "outputId": "0f6c4c40-fa02-48a1-80df-f8a2fc944b1d"
      },
      "execution_count": 30,
      "outputs": [
        {
          "output_type": "stream",
          "name": "stdout",
          "text": [
            "06_rolldice\n",
            "First Die: 4\n",
            "Second Die: 3\n",
            "Total of Two Dices: 7.\n"
          ]
        }
      ]
    },
    {
      "cell_type": "code",
      "source": [
        "print(\"06_seconds_in_year\")\n",
        "\n",
        "days_in_year:int = 365\n",
        "hours_in_day:int = 24\n",
        "minutes_in_hour:int = 60\n",
        "seconds_in_minute:int = 60\n",
        "\n",
        "def seconds():\n",
        "  print(f'There are {days_in_year * hours_in_day * minutes_in_hour * seconds_in_minute} Seconds in a Year.')\n",
        "\n",
        "if __name__ == \"__main__\":\n",
        "  seconds()"
      ],
      "metadata": {
        "colab": {
          "base_uri": "https://localhost:8080/"
        },
        "id": "tC-0Ua_-izlY",
        "outputId": "bfcf5703-044c-4e26-b44e-92ed3b750106"
      },
      "execution_count": 32,
      "outputs": [
        {
          "output_type": "stream",
          "name": "stdout",
          "text": [
            "06_seconds_in_year\n",
            "There are 31536000 Seconds in a Year.\n"
          ]
        }
      ]
    },
    {
      "cell_type": "code",
      "source": [
        "print(\"07_tiny_mad_lib\")\n",
        "\n",
        "def tiny():\n",
        "  noun:str = str(input(\"Please Type a Noun and Press Enter: \"))\n",
        "  adjective:str = str(input(\"Please Type an Adjective and Press Enter: \"))\n",
        "  verb:str = str(input(\"Please Type a Verb and Press Enter: \"))\n",
        "  print(f'Do You {verb} Your {adjective} {noun} ?')\n",
        "\n",
        "if __name__ == \"__main__\":\n",
        "  tiny()\n",
        ""
      ],
      "metadata": {
        "colab": {
          "base_uri": "https://localhost:8080/"
        },
        "id": "NWu4uluLjIbu",
        "outputId": "806e3ad1-7c3b-4376-af72-3b64bb9a516f"
      },
      "execution_count": 35,
      "outputs": [
        {
          "output_type": "stream",
          "name": "stdout",
          "text": [
            "07_tiny_mad_lib\n",
            "Please Type a Noun and Press Enter: Faiza\n",
            "Please Type an Adjective and Press Enter: Good\n",
            "Please Type a Verb and Press Enter: English\n",
            "Do You English Your Good Faiza ?\n"
          ]
        }
      ]
    }
  ]
}