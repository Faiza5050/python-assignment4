{
  "nbformat": 4,
  "nbformat_minor": 0,
  "metadata": {
    "colab": {
      "provenance": [],
      "authorship_tag": "ABX9TyNZpsdruFU1+Zfa9FR4UsCA",
      "include_colab_link": true
    },
    "kernelspec": {
      "name": "python3",
      "display_name": "Python 3"
    },
    "language_info": {
      "name": "python"
    }
  },
  "cells": [
    {
      "cell_type": "markdown",
      "metadata": {
        "id": "view-in-github",
        "colab_type": "text"
      },
      "source": [
        "<a href=\"https://colab.research.google.com/github/Faiza5050/python-assignment4/blob/main/02_lists.ipynb\" target=\"_parent\"><img src=\"https://colab.research.google.com/assets/colab-badge.svg\" alt=\"Open In Colab\"/></a>"
      ]
    },
    {
      "cell_type": "code",
      "execution_count": 1,
      "metadata": {
        "colab": {
          "base_uri": "https://localhost:8080/"
        },
        "id": "oaCKgqxk65Ny",
        "outputId": "8ff190b9-f1ca-4f01-cd3a-3db4e673993b"
      },
      "outputs": [
        {
          "output_type": "stream",
          "name": "stdout",
          "text": [
            "01_add_many_number\n",
            "10\n"
          ]
        }
      ],
      "source": [
        "print(\"01_add_many_number\")\n",
        "\n",
        "def add_many(numbers)->int:\n",
        "  num:int = 0\n",
        "  for i in numbers:\n",
        "    num += i\n",
        "  return num\n",
        "\n",
        "def main():\n",
        "  numbers:list[int] = [1, 2, 3, 4]\n",
        "  sum = add_many(numbers)\n",
        "  print(sum)\n",
        "\n",
        "if __name__ == \"__main__\":\n",
        "  main()"
      ]
    },
    {
      "cell_type": "code",
      "source": [
        "print(\"02_double_list\")\n",
        "\n",
        "def main():\n",
        "  numbers:list[int] = [1, 2, 5, 4]\n",
        "  for i in range(len(numbers)):\n",
        "    index = numbers[i]\n",
        "    numbers[i] = index * 2\n",
        "  print(numbers)\n",
        "\n",
        "if __name__ == \"__main__\":\n",
        "  main()"
      ],
      "metadata": {
        "colab": {
          "base_uri": "https://localhost:8080/"
        },
        "id": "V6JGIpQe9S9x",
        "outputId": "10dab17d-064a-4b43-a459-a3eb6d711b57"
      },
      "execution_count": 3,
      "outputs": [
        {
          "output_type": "stream",
          "name": "stdout",
          "text": [
            "02_double_list\n",
            "[2, 4, 10, 8]\n"
          ]
        }
      ]
    },
    {
      "cell_type": "code",
      "source": [
        "print(\"04_flowing_with_data_structures\")\n",
        "\n",
        "def add_three_copies(my_list, data):\n",
        "  for i in range(3):\n",
        "    my_list.append(data)\n",
        "\n",
        "def main():\n",
        "  message = input(\"Enter a Message to Copy: \")\n",
        "  my_list = []\n",
        "  print(\"List Before: \", my_list)\n",
        "  add_three_copies(my_list, message)\n",
        "  print(\"List After: \", my_list)\n",
        "\n",
        "if __name__ == \"__main__\":\n",
        "  main()"
      ],
      "metadata": {
        "colab": {
          "base_uri": "https://localhost:8080/"
        },
        "id": "cqJJrnWM-_1w",
        "outputId": "f5b1bc36-8425-4806-80e5-512eff3535c0"
      },
      "execution_count": 15,
      "outputs": [
        {
          "output_type": "stream",
          "name": "stdout",
          "text": [
            "04_flowing_with_data_structures\n",
            "Enter a Message to Copy: hello faiza\n",
            "List Before:  []\n",
            "List After:  ['hello faiza', 'hello faiza', 'hello faiza']\n"
          ]
        }
      ]
    },
    {
      "cell_type": "code",
      "source": [
        "print(\"05_get_first_element\")\n",
        "\n",
        "def get_first_element(lst):\n",
        "  print(lst[0])\n",
        "\n",
        "def get_lst():\n",
        "  lst = []\n",
        "  element: str = input(\"Please Enter an Element of the List Or Press Enter to Stop. \")\n",
        "  while element != \"\":\n",
        "    lst.append(element)\n",
        "    element = input(\"Please Enter an Element of the List Or Press Enter to Stop. \")\n",
        "  return lst\n",
        "\n",
        "def main():\n",
        "  lst = get_lst()\n",
        "  get_first_element(lst)\n",
        "\n",
        "if __name__ == \"__main__\":\n",
        "  main()"
      ],
      "metadata": {
        "colab": {
          "base_uri": "https://localhost:8080/"
        },
        "id": "kTdhpWNvJP6v",
        "outputId": "cd667e2c-fbcd-47b2-fac6-d4128fccda52"
      },
      "execution_count": 17,
      "outputs": [
        {
          "output_type": "stream",
          "name": "stdout",
          "text": [
            "05_get_first_element\n",
            "Please Enter an Element of the List Or Press Enter to Stop. a\n",
            "Please Enter an Element of the List Or Press Enter to Stop. b\n",
            "Please Enter an Element of the List Or Press Enter to Stop. c\n",
            "Please Enter an Element of the List Or Press Enter to Stop. d\n",
            "Please Enter an Element of the List Or Press Enter to Stop. \n",
            "a\n"
          ]
        }
      ]
    },
    {
      "cell_type": "code",
      "source": [
        "print(\"06_get_last_element\")\n",
        "\n",
        "def get_last_element(lst):\n",
        "  print(lst[-1])\n",
        "\n",
        "def get_lst():\n",
        "  lst = []\n",
        "  element: str = input(\"Please Enter an Element of the List Or Press Enter to Stop. \")\n",
        "  while element != \"\":\n",
        "    lst.append(element)\n",
        "    element = input(\"Please Enter an Element of the List Or Press Enter to Stop. \")\n",
        "  return lst\n",
        "\n",
        "def main():\n",
        "  lst = get_lst()\n",
        "  get_last_element(lst)\n",
        "\n",
        "if __name__ == \"__main__\":\n",
        "  main()"
      ],
      "metadata": {
        "colab": {
          "base_uri": "https://localhost:8080/"
        },
        "id": "kOiIBa97MgYR",
        "outputId": "008ea26a-212e-4695-a446-bd9c2bcb5df0"
      },
      "execution_count": 18,
      "outputs": [
        {
          "output_type": "stream",
          "name": "stdout",
          "text": [
            "06_get_last_element\n",
            "Please Enter an Element of the List Or Press Enter to Stop. a\n",
            "Please Enter an Element of the List Or Press Enter to Stop. b\n",
            "Please Enter an Element of the List Or Press Enter to Stop. c\n",
            "Please Enter an Element of the List Or Press Enter to Stop. d\n",
            "Please Enter an Element of the List Or Press Enter to Stop. \n",
            "d\n"
          ]
        }
      ]
    },
    {
      "cell_type": "code",
      "source": [
        "print(\"07_get_list\")\n",
        "\n",
        "def get_list():\n",
        "  my_list = []\n",
        "  value: str = input(\"Enter an Element of the List Or Press Enter to Stop. \")\n",
        "  while value != \"\":\n",
        "    my_list.append(value)\n",
        "    value = input(\"Enter an Element of the List Or Press Enter to Stop. \")\n",
        "  print(\"Here's the list: \" , my_list)\n",
        "\n",
        "if __name__ == \"__main__\":\n",
        "  get_list()"
      ],
      "metadata": {
        "colab": {
          "base_uri": "https://localhost:8080/"
        },
        "id": "3xDhgzUqNsL8",
        "outputId": "6778acfb-17fc-49b8-8d2f-c5cfb98cd7af"
      },
      "execution_count": 20,
      "outputs": [
        {
          "output_type": "stream",
          "name": "stdout",
          "text": [
            "07_get_list\n",
            "Enter an Element of the List Or Press Enter to Stop. Areesha\n",
            "Enter an Element of the List Or Press Enter to Stop. Faiza\n",
            "Enter an Element of the List Or Press Enter to Stop. Maha\n",
            "Enter an Element of the List Or Press Enter to Stop. Shereen\n",
            "Enter an Element of the List Or Press Enter to Stop. \n",
            "Here's the list:  ['Areesha', 'Faiza', 'Maha', 'Shereen']\n"
          ]
        }
      ]
    },
    {
      "cell_type": "code",
      "source": [
        "print(\"08_shorten\")\n",
        "\n",
        "MAX_LENGTH = 3\n",
        "def shorten(lst):\n",
        "  while len(lst) >= MAX_LENGTH:\n",
        "    last_element = lst.pop()\n",
        "    print(last_element)\n",
        "\n",
        "def get_list():\n",
        "  lst = []\n",
        "  element = input(\"Enter an Element of the List Or Press Enter to Stop. \")\n",
        "  while element != \"\":\n",
        "    lst.append(element)\n",
        "    element = input(\"Enter an Element of the List Or Press Enter to Stop. \")\n",
        "  return lst\n",
        "\n",
        "def main():\n",
        "  lst = get_list()\n",
        "  shorten(lst)\n",
        "\n",
        "if __name__ == \"__main__\":\n",
        "  main()"
      ],
      "metadata": {
        "colab": {
          "base_uri": "https://localhost:8080/"
        },
        "id": "hiuxK38PRWc3",
        "outputId": "09dbd480-a24c-41dc-a607-968e5ef5d0fd"
      },
      "execution_count": 24,
      "outputs": [
        {
          "output_type": "stream",
          "name": "stdout",
          "text": [
            "08_shorten\n",
            "Enter an Element of the List Or Press Enter to Stop. areesha\n",
            "Enter an Element of the List Or Press Enter to Stop. faiza\n",
            "Enter an Element of the List Or Press Enter to Stop. maha\n",
            "Enter an Element of the List Or Press Enter to Stop. ahmer\n",
            "Enter an Element of the List Or Press Enter to Stop. usama\n",
            "Enter an Element of the List Or Press Enter to Stop. shereen\n",
            "Enter an Element of the List Or Press Enter to Stop. \n",
            "shereen\n",
            "usama\n",
            "ahmer\n",
            "maha\n"
          ]
        }
      ]
    }
  ]
}