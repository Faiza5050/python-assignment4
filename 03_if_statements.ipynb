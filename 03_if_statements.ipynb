{
  "nbformat": 4,
  "nbformat_minor": 0,
  "metadata": {
    "colab": {
      "provenance": [],
      "authorship_tag": "ABX9TyN9Dj3jkVUJT3eeHEqvfXAR",
      "include_colab_link": true
    },
    "kernelspec": {
      "name": "python3",
      "display_name": "Python 3"
    },
    "language_info": {
      "name": "python"
    }
  },
  "cells": [
    {
      "cell_type": "markdown",
      "metadata": {
        "id": "view-in-github",
        "colab_type": "text"
      },
      "source": [
        "<a href=\"https://colab.research.google.com/github/Faiza5050/python-assignment4/blob/main/03_if_statements.ipynb\" target=\"_parent\"><img src=\"https://colab.research.google.com/assets/colab-badge.svg\" alt=\"Open In Colab\"/></a>"
      ]
    },
    {
      "cell_type": "code",
      "execution_count": 10,
      "metadata": {
        "colab": {
          "base_uri": "https://localhost:8080/"
        },
        "id": "r--tLdnxaJEc",
        "outputId": "6d2462ab-ffeb-4eac-a4ed-b76771e6c94f"
      },
      "outputs": [
        {
          "output_type": "stream",
          "name": "stdout",
          "text": [
            "01_print_events\n",
            "The First 20 Even Numbers are:  {0}\n",
            "The First 20 Even Numbers are:  {2}\n",
            "The First 20 Even Numbers are:  {4}\n",
            "The First 20 Even Numbers are:  {6}\n",
            "The First 20 Even Numbers are:  {8}\n",
            "The First 20 Even Numbers are:  {10}\n",
            "The First 20 Even Numbers are:  {12}\n",
            "The First 20 Even Numbers are:  {14}\n",
            "The First 20 Even Numbers are:  {16}\n",
            "The First 20 Even Numbers are:  {18}\n",
            "The First 20 Even Numbers are:  {20}\n",
            "The First 20 Even Numbers are:  {22}\n",
            "The First 20 Even Numbers are:  {24}\n",
            "The First 20 Even Numbers are:  {26}\n",
            "The First 20 Even Numbers are:  {28}\n",
            "The First 20 Even Numbers are:  {30}\n",
            "The First 20 Even Numbers are:  {32}\n",
            "The First 20 Even Numbers are:  {34}\n",
            "The First 20 Even Numbers are:  {36}\n",
            "The First 20 Even Numbers are:  {38}\n"
          ]
        }
      ],
      "source": [
        "print(\"01_print_events\")\n",
        "\n",
        "def even():\n",
        "  for i in range(20):\n",
        "    print(f\"The First 20 Even Numbers are: \" , {i * 2})\n",
        "\n",
        "if __name__ == \"__main__\":\n",
        "    even()"
      ]
    },
    {
      "cell_type": "code",
      "source": [
        "print(\"02_international_voting_age\")\n",
        "\n",
        "Peturksbouipo:int = 16\n",
        "Stanlau:int = 25\n",
        "Mayengua:int = 48\n",
        "\n",
        "def voting():\n",
        "  age:int = int(input(\"How Old are You? \"))\n",
        "  if age >= Peturksbouipo:\n",
        "    print(f\"Your Age is {age}, You are Eligible to Vote in Peturksbouipo.\")\n",
        "  else:\n",
        "    print(f\"Your Age is {age}, Sorry! You are Not Eligible to Vote in Peturksbouipo.\")\n",
        "\n",
        "  if age >= Stanlau:\n",
        "    print(f\"Your Age is {age}, You are Eligible to Vote in Stanlau.\")\n",
        "  else:\n",
        "    print(f\"Your Age is {age}, Sorry! You are Not Eligible to Vote in Stanlau.\")\n",
        "\n",
        "  if age >= Mayengua:\n",
        "    print(f\"Your Age is {age}, You are Eligible to Vote in Mayengua.\")\n",
        "  else:\n",
        "    print(f\"Your Age is {age}, Sorry! You are Not Eligible to Vote in Mayengua.\")\n",
        "\n",
        "if __name__ == \"__main__\":\n",
        "    voting()"
      ],
      "metadata": {
        "colab": {
          "base_uri": "https://localhost:8080/"
        },
        "id": "SabAPbPhd288",
        "outputId": "db883e19-efbb-4bc5-d128-022f144431df"
      },
      "execution_count": 15,
      "outputs": [
        {
          "output_type": "stream",
          "name": "stdout",
          "text": [
            "02_international_voting_age\n",
            "How Old are You? 30\n",
            "Your Age is 30, You are Eligible to Vote in Peturksbouipo.\n",
            "Your Age is 30, You are Eligible to Vote in Stanlau.\n",
            "Your Age is 30, Sorry! You are Not Eligible to Vote in Mayengua.\n"
          ]
        }
      ]
    },
    {
      "cell_type": "code",
      "source": [
        "print(\"03_leap_year\")\n",
        "\n",
        "def leap():\n",
        "  year:int = int(input(\"Enter Year: \"))\n",
        "  if year % 4 == 0:\n",
        "    print(f\"{year} is a Leap Year.\")\n",
        "\n",
        "  elif year % 100 == 0:\n",
        "    print(f\"{year} is Not a Leap Year.\")\n",
        "  elif year % 400 == 0:\n",
        "    print(f\"{year} is a Leap Year.\")\n",
        "  else:\n",
        "    print(f\"{year} is Not a Leap Year.\")\n",
        "\n",
        "if __name__ == \"__main__\":\n",
        "    leap()"
      ],
      "metadata": {
        "colab": {
          "base_uri": "https://localhost:8080/"
        },
        "id": "N4PmqWjCi4UZ",
        "outputId": "9d0b57bb-60a9-4bd9-d6d9-3946412e4457"
      },
      "execution_count": 19,
      "outputs": [
        {
          "output_type": "stream",
          "name": "stdout",
          "text": [
            "03_leap_year\n",
            "Enter Year: 1999\n",
            "1999 is Not a Leap Year.\n"
          ]
        }
      ]
    },
    {
      "cell_type": "code",
      "source": [
        "print(\"04_tall_enough_to_ride\")\n",
        "\n",
        "height:int = 50\n",
        "def ride():\n",
        "  user:int = int(input(\"How Tall are You?: \"))\n",
        "  if user >= height:\n",
        "    print(\"You're Tall Enough to Ride!\")\n",
        "  else:\n",
        "    print(\"You're Not Tall Enough to Ride, but maybe Next Year!\")\n",
        "\n",
        "if __name__ == \"__main__\":\n",
        "    ride()"
      ],
      "metadata": {
        "colab": {
          "base_uri": "https://localhost:8080/"
        },
        "id": "rO5-TY_yoNPq",
        "outputId": "0087fefe-0ac4-46c0-9be3-d374731264a6"
      },
      "execution_count": 26,
      "outputs": [
        {
          "output_type": "stream",
          "name": "stdout",
          "text": [
            "04_tall_enough_to_ride\n",
            "How Tall are You?: 30\n",
            "You're Not Tall Enough to Ride, but maybe Next Year!\n"
          ]
        }
      ]
    },
    {
      "cell_type": "code",
      "source": [
        "print(\"05_random_numbers\")\n",
        "\n",
        "import random\n",
        "\n",
        "def random_num():\n",
        "  for i in range(5):\n",
        "    num:list[int] = random.randint(1, 500)\n",
        "    print(f\"The Random Number is: {num}\")\n",
        "\n",
        "if __name__ == \"__main__\":\n",
        "    random_num()"
      ],
      "metadata": {
        "colab": {
          "base_uri": "https://localhost:8080/"
        },
        "id": "nFOv6sTlsK4h",
        "outputId": "994da2fe-8255-43e0-e3f7-6f20004f4b24"
      },
      "execution_count": 31,
      "outputs": [
        {
          "output_type": "stream",
          "name": "stdout",
          "text": [
            "05_random_numbers\n",
            "The Random Number is: 349\n",
            "The Random Number is: 1\n",
            "The Random Number is: 326\n",
            "The Random Number is: 241\n",
            "The Random Number is: 2\n"
          ]
        }
      ]
    }
  ]
}