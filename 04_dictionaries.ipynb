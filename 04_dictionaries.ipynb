{
  "nbformat": 4,
  "nbformat_minor": 0,
  "metadata": {
    "colab": {
      "provenance": [],
      "authorship_tag": "ABX9TyMkUANQ2vz/w6h+m1dwvQkv",
      "include_colab_link": true
    },
    "kernelspec": {
      "name": "python3",
      "display_name": "Python 3"
    },
    "language_info": {
      "name": "python"
    }
  },
  "cells": [
    {
      "cell_type": "markdown",
      "metadata": {
        "id": "view-in-github",
        "colab_type": "text"
      },
      "source": [
        "<a href=\"https://colab.research.google.com/github/Faiza5050/python-assignment4/blob/main/04_dictionaries.ipynb\" target=\"_parent\"><img src=\"https://colab.research.google.com/assets/colab-badge.svg\" alt=\"Open In Colab\"/></a>"
      ]
    },
    {
      "cell_type": "code",
      "source": [
        "print(\"00_count_nums\")\n",
        "\n",
        "def count_numbers():\n",
        "  count_dict = {}\n",
        "\n",
        "  while True:\n",
        "    num = input(\"Enter a number (or Exit to quit): \")\n",
        "    if num.title() == 'Exit':\n",
        "      break\n",
        "    if num.isdigit():\n",
        "      num = int(num)\n",
        "      count_dict[num] = count_dict.get(num, 0) + 1\n",
        "    else:\n",
        "      print(\"Invalid input. Please Enter a Number or 'Exit'.\")\n",
        "  return count_dict\n",
        "def display_results(count_dict):\n",
        "  print(\"\\nNumber Counts:\")\n",
        "  for key, value in count_dict.items():\n",
        "    print(f\"{key}: {value} times\")\n",
        "\n",
        "if __name__ == \"__main__\":\n",
        "  count = count_numbers()\n",
        "  display_results(count)\n"
      ],
      "metadata": {
        "colab": {
          "base_uri": "https://localhost:8080/"
        },
        "id": "cU-bFnEVu1M2",
        "outputId": "deda0f79-edaf-4400-e434-d5bb3fe77ee3"
      },
      "execution_count": 4,
      "outputs": [
        {
          "output_type": "stream",
          "name": "stdout",
          "text": [
            "00_count_nums\n",
            "Enter a number (or Exit to quit): 2\n",
            "Enter a number (or Exit to quit): 3\n",
            "Enter a number (or Exit to quit): 2\n",
            "Enter a number (or Exit to quit): 5\n",
            "Enter a number (or Exit to quit): 7\n",
            "Enter a number (or Exit to quit): 2\n",
            "Enter a number (or Exit to quit): exit\n",
            "\n",
            "Number Counts:\n",
            "2: 3 times\n",
            "3: 1 times\n",
            "5: 1 times\n",
            "7: 1 times\n"
          ]
        }
      ]
    },
    {
      "cell_type": "code",
      "source": [
        "print(\"01_phonebook\")\n",
        "\n",
        "def add_contact(phonebook):\n",
        "  name = input(\"Enter Name: \")\n",
        "  number = input(\"Enter Number: \")\n",
        "\n",
        "  if name in phonebook:\n",
        "    print(f\"{name} Already Exists in the Phonebook.\")\n",
        "  else:\n",
        "    phonebook[name] = number\n",
        "    print(f\"{name} Added to the Phonebook Successfully!\")\n",
        "\n",
        "def search_contact(phonebook):\n",
        "    name = input(\"Enter Name to Search: \")\n",
        "\n",
        "    if name in phonebook:\n",
        "      print(f\"{name}: {phonebook[name]}\")\n",
        "    else:\n",
        "      print(f\"{name} Not Found in the Phonebook.\")\n",
        "\n",
        "def delete_contact(phonebook):\n",
        "    name = input(\"Enter Name to Delete: \")\n",
        "\n",
        "    if name in phonebook:\n",
        "      del phonebook[name]\n",
        "      print(f\"{name} Deleted from the Phonebook.\")\n",
        "    else:\n",
        "      print(f\"{name} Not Found in the Phonebook.\")\n",
        "\n",
        "def display_contacts(phonebook):\n",
        "    if phonebook:\n",
        "      print(\"\\n Phonebook Contacts List: \")\n",
        "      for name, number in phonebook.items():\n",
        "        print(f\"{name}: {number}\")\n",
        "    else:\n",
        "      print(\"Phonebook is Empty.\")\n",
        "\n",
        "if __name__ == \"__main__\":\n",
        "  phonebook = {}\n",
        "\n",
        "  while True:\n",
        "    print(\"\\n Options:\")\n",
        "    print(\"1. Add Contact\")\n",
        "    print(\"2. Search Contact\")\n",
        "    print(\"3. Delete Contact\")\n",
        "    print(\"4. Display Contacts\")\n",
        "    print(\"5. Quit\")\n",
        "\n",
        "    choice = input(\"Enter Your Choice (1-5): \")\n",
        "\n",
        "    if choice == '1':\n",
        "      add_contact(phonebook)\n",
        "    elif choice == '2':\n",
        "      search_contact(phonebook)\n",
        "    elif choice == '3':\n",
        "      delete_contact(phonebook)\n",
        "    elif choice == '4':\n",
        "      display_contacts(phonebook)\n",
        "    elif choice == '5':\n",
        "      print(\"Exiting Phonebook. Goodbye!\")\n",
        "      break\n",
        "    else:\n",
        "      print(\"Invalid choice. Please select a Number between 1 to 5. \")\n"
      ],
      "metadata": {
        "colab": {
          "base_uri": "https://localhost:8080/"
        },
        "id": "lyPgxkPN1Vkd",
        "outputId": "68368349-853b-416e-b72f-e351ad03b5e6"
      },
      "execution_count": 7,
      "outputs": [
        {
          "output_type": "stream",
          "name": "stdout",
          "text": [
            "01_phonebook\n",
            "\n",
            " Options:\n",
            "1. Add Contact\n",
            "2. Search Contact\n",
            "3. Delete Contact\n",
            "4. Display Contacts\n",
            "5. Quit\n",
            "Enter Your Choice (1-5): 1\n",
            "Enter Name: faiza\n",
            "Enter Number: 123\n",
            "faiza Added to the Phonebook Successfully!\n",
            "\n",
            " Options:\n",
            "1. Add Contact\n",
            "2. Search Contact\n",
            "3. Delete Contact\n",
            "4. Display Contacts\n",
            "5. Quit\n",
            "Enter Your Choice (1-5): 1\n",
            "Enter Name: areesha\n",
            "Enter Number: 456\n",
            "areesha Added to the Phonebook Successfully!\n",
            "\n",
            " Options:\n",
            "1. Add Contact\n",
            "2. Search Contact\n",
            "3. Delete Contact\n",
            "4. Display Contacts\n",
            "5. Quit\n",
            "Enter Your Choice (1-5): 4\n",
            "\n",
            " Phonebook Contacts List: \n",
            "faiza: 123\n",
            "areesha: 456\n",
            "\n",
            " Options:\n",
            "1. Add Contact\n",
            "2. Search Contact\n",
            "3. Delete Contact\n",
            "4. Display Contacts\n",
            "5. Quit\n",
            "Enter Your Choice (1-5): 2\n",
            "Enter Name to Search: areesha\n",
            "areesha: 456\n",
            "\n",
            " Options:\n",
            "1. Add Contact\n",
            "2. Search Contact\n",
            "3. Delete Contact\n",
            "4. Display Contacts\n",
            "5. Quit\n",
            "Enter Your Choice (1-5): 3\n",
            "Enter Name to Delete: areesha\n",
            "areesha Deleted from the Phonebook.\n",
            "\n",
            " Options:\n",
            "1. Add Contact\n",
            "2. Search Contact\n",
            "3. Delete Contact\n",
            "4. Display Contacts\n",
            "5. Quit\n",
            "Enter Your Choice (1-5): 4\n",
            "\n",
            " Phonebook Contacts List: \n",
            "faiza: 123\n",
            "\n",
            " Options:\n",
            "1. Add Contact\n",
            "2. Search Contact\n",
            "3. Delete Contact\n",
            "4. Display Contacts\n",
            "5. Quit\n",
            "Enter Your Choice (1-5): 5\n",
            "Exiting Phonebook. Goodbye!\n"
          ]
        }
      ]
    },
    {
      "cell_type": "code",
      "source": [
        "print(\"02_pop_up_shop\")\n",
        "\n",
        "def total_cost():\n",
        "  fruits_price = {\n",
        "      \"apple\" : 2.0,\n",
        "      \"banana\" : 5.0,\n",
        "      \"mango\" : 10.0,\n",
        "      \"kiwi\" : 15.5,\n",
        "      \"orange\" : 20.0\n",
        "  }\n",
        "\n",
        "  cost = 0\n",
        "\n",
        "  for fruit, price in fruits_price.items():\n",
        "    while True:\n",
        "      try:\n",
        "        quantity = int(input(f\"\\nHow many {fruit} do you want to buy? \"))\n",
        "        if quantity < 0:\n",
        "          print(\"Invalid input. Please Enter a Positive Number.\")\n",
        "          continue\n",
        "        cost += price * quantity\n",
        "        break\n",
        "      except ValueError:\n",
        "        print(\"Invalid input. Please Enter a Valid Number.\")\n",
        "\n",
        "    print(f\"Total Cost: ${cost:.2f}\")\n",
        "\n",
        "if __name__ == \"__main__\":\n",
        "  total_cost()\n"
      ],
      "metadata": {
        "colab": {
          "base_uri": "https://localhost:8080/"
        },
        "id": "YFA7mOS_A38U",
        "outputId": "6b2f56bc-3ca5-43fb-9f12-8e0b81f91b61"
      },
      "execution_count": 11,
      "outputs": [
        {
          "output_type": "stream",
          "name": "stdout",
          "text": [
            "02_pop_up_shop\n",
            "\n",
            "How many apple do you want to buy? 2\n",
            "Total Cost: $4.00\n",
            "\n",
            "How many banana do you want to buy? 6\n",
            "Total Cost: $34.00\n",
            "\n",
            "How many mango do you want to buy? 20\n",
            "Total Cost: $234.00\n",
            "\n",
            "How many kiwi do you want to buy? 5\n",
            "Total Cost: $311.50\n",
            "\n",
            "How many orange do you want to buy? 12\n",
            "Total Cost: $551.50\n"
          ]
        }
      ]
    },
    {
      "cell_type": "code",
      "source": [
        "import hashlib\n",
        "\n",
        "print(\"03_powerful_passwords\")\n",
        "\n",
        "def hash_password(password):\n",
        "  return hashlib.sha256(password.encode()).hexdigest()\n",
        "\n",
        "stored_login = {\n",
        "    \"faiza@example.com\": hash_password(\"password123\"),\n",
        "    \"admin@example.com\": hash_password(\"admin123\")\n",
        "}\n",
        "\n",
        "def login(email, password):\n",
        "  if email in stored_login:\n",
        "    return stored_login[email] == hash_password(password)\n",
        "  else:\n",
        "    return False\n",
        "\n",
        "if __name__ == \"__main__\":\n",
        "  print(\"Welcome to the Login System!\")\n",
        "  email = input(\"Enter Your Email: \")\n",
        "  password = input(\"Enter Your Password: \")\n",
        "\n",
        "  if login(email, password):\n",
        "    print(\"Login Successful!\")\n",
        "  else:\n",
        "    print(\"Invalid Credentials. Login Failed.\")"
      ],
      "metadata": {
        "colab": {
          "base_uri": "https://localhost:8080/"
        },
        "id": "xt8axZluKqtx",
        "outputId": "28c90cb8-da04-49b1-9d7e-c2c415168ffb"
      },
      "execution_count": 14,
      "outputs": [
        {
          "output_type": "stream",
          "name": "stdout",
          "text": [
            "03_powerful_passwords\n",
            "Welcome to the Login System!\n",
            "Enter Your Email: faiza@example.com\n",
            "Enter Your Password: password123\n",
            "Login Successful!\n"
          ]
        }
      ]
    },
    {
      "cell_type": "markdown",
      "source": [],
      "metadata": {
        "id": "IUVMqQw77KIE"
      }
    }
  ]
}