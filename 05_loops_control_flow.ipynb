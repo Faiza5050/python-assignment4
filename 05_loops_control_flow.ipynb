{
  "nbformat": 4,
  "nbformat_minor": 0,
  "metadata": {
    "colab": {
      "provenance": [],
      "authorship_tag": "ABX9TyOMtGUVYSyib+9K6IUyaO4y",
      "include_colab_link": true
    },
    "kernelspec": {
      "name": "python3",
      "display_name": "Python 3"
    },
    "language_info": {
      "name": "python"
    }
  },
  "cells": [
    {
      "cell_type": "markdown",
      "metadata": {
        "id": "view-in-github",
        "colab_type": "text"
      },
      "source": [
        "<a href=\"https://colab.research.google.com/github/Faiza5050/python-assignment4/blob/main/05_loops_control_flow.ipynb\" target=\"_parent\"><img src=\"https://colab.research.google.com/assets/colab-badge.svg\" alt=\"Open In Colab\"/></a>"
      ]
    },
    {
      "cell_type": "code",
      "execution_count": 1,
      "metadata": {
        "colab": {
          "base_uri": "https://localhost:8080/"
        },
        "id": "2D6CSz6TRjfE",
        "outputId": "f1b94fd3-a173-4d76-e93b-bf2b91ce7a5f"
      },
      "outputs": [
        {
          "output_type": "stream",
          "name": "stdout",
          "text": [
            "00_guess_my_number\n",
            "\n",
            "I am thinking of a number between 1 and 99....\n",
            "Enter a Guess Number: 10\n",
            "Your guess is too Low.\n",
            "Enter a Guess Number: 55\n",
            "Your guess is too High.\n",
            "Enter a Guess Number: 50\n",
            "Your guess is too High.\n",
            "Enter a Guess Number: 20\n",
            "Your guess is too Low.\n",
            "Enter a Guess Number: 30\n",
            "Your guess is too High.\n",
            "Enter a Guess Number: 25\n",
            "Your guess is too High.\n",
            "Enter a Guess Number: 22\n",
            "Your guess is too Low.\n",
            "Enter a Guess Number: 21\n",
            "Your guess is too Low.\n",
            "Enter a Guess Number: 23\n",
            "Congratulation! The number was 23\n"
          ]
        }
      ],
      "source": [
        "import random\n",
        "print(\"00_guess_my_number\")\n",
        "\n",
        "def main():\n",
        "  secret_number = random.randint(1,99)\n",
        "  print(\"\\nI am thinking of a number between 1 and 99....\")\n",
        "\n",
        "  guess = int(input(\"Enter a Guess Number: \"))\n",
        "\n",
        "  while guess != secret_number:\n",
        "    if guess < secret_number:\n",
        "      print(\"Your Guess is too Low.\")\n",
        "    else:\n",
        "      print(\"Your Guess is too High.\")\n",
        "    guess = int(input(\"Enter a Guess Number: \"))\n",
        "\n",
        "  print(f\"Congratulation! The Number was {secret_number}\")\n",
        "\n",
        "\n",
        "if __name__ == \"__main__\":\n",
        "  main()"
      ]
    },
    {
      "cell_type": "code",
      "source": [
        "print(\"01_fibonacci\")\n",
        "\n",
        "max_value = 10000\n",
        "\n",
        "def main():\n",
        "    a, b = 0, 1\n",
        "    print(a)\n",
        "    print(b)\n",
        "\n",
        "    while True:\n",
        "        c = a + b\n",
        "        if c >= max_value:\n",
        "            break\n",
        "        print(c)\n",
        "        a, b = b, c\n",
        "\n",
        "if __name__ == \"__main__\":\n",
        "    main()"
      ],
      "metadata": {
        "colab": {
          "base_uri": "https://localhost:8080/"
        },
        "id": "5JLIN7XkzCvm",
        "outputId": "ed579bb5-3e99-407d-a044-8014ab147ca0"
      },
      "execution_count": 2,
      "outputs": [
        {
          "output_type": "stream",
          "name": "stdout",
          "text": [
            "01_fibonacci\n",
            "0\n",
            "1\n",
            "1\n",
            "2\n",
            "3\n",
            "5\n",
            "8\n",
            "13\n",
            "21\n",
            "34\n",
            "55\n",
            "89\n",
            "144\n",
            "233\n",
            "377\n",
            "610\n",
            "987\n",
            "1597\n",
            "2584\n",
            "4181\n",
            "6765\n"
          ]
        }
      ]
    },
    {
      "cell_type": "code",
      "source": [
        "print(\"02_print_evens\")\n",
        "\n",
        "def evens():\n",
        "  for i in range(20):\n",
        "    print(i*2)\n",
        "\n",
        "if __name__ == \"__main__\":\n",
        "  evens()"
      ],
      "metadata": {
        "colab": {
          "base_uri": "https://localhost:8080/"
        },
        "id": "mZMgpagU3mfB",
        "outputId": "c45995be-7f62-462f-8b3f-c4d674d7cbfe"
      },
      "execution_count": 3,
      "outputs": [
        {
          "output_type": "stream",
          "name": "stdout",
          "text": [
            "02_print_evens\n",
            "0\n",
            "2\n",
            "4\n",
            "6\n",
            "8\n",
            "10\n",
            "12\n",
            "14\n",
            "16\n",
            "18\n",
            "20\n",
            "22\n",
            "24\n",
            "26\n",
            "28\n",
            "30\n",
            "32\n",
            "34\n",
            "36\n",
            "38\n"
          ]
        }
      ]
    },
    {
      "cell_type": "code",
      "source": [
        "print(\"03_wholesome_machine\")\n",
        "\n",
        "correct_affirmation = \"I am capable of doing anything I put my mind to.\"\n",
        "\n",
        "def affirmation():\n",
        "    print(\"Please type the following Affirmation: \" + correct_affirmation)\n",
        "    user_input = input()\n",
        "\n",
        "    while user_input != correct_affirmation:\n",
        "        print(\"Hmmmmm\")\n",
        "        print(\"That was not the Affirmation.\")\n",
        "        print(\"Please type the following Affirmation: \" + correct_affirmation)\n",
        "        user_input = input()\n",
        "\n",
        "    print(\"That's right! :)\")\n",
        "\n",
        "if __name__ == \"__main__\":\n",
        "    affirmation()"
      ],
      "metadata": {
        "colab": {
          "base_uri": "https://localhost:8080/"
        },
        "id": "h57kusLa5Udj",
        "outputId": "12e740b7-0bf5-47c5-9829-23a3868dc158"
      },
      "execution_count": 7,
      "outputs": [
        {
          "output_type": "stream",
          "name": "stdout",
          "text": [
            "03_wholesome_machine\n",
            "Please type the following Affirmation: I am capable of doing anything I put my mind to.\n",
            "I am capable of doing anything I put my mind too.\n",
            "Hmmm\n",
            "That was not the Affirmation.\n",
            "Please type the following Affirmation: I am capable of doing anything I put my mind to.\n",
            "I am capable of doing anything I put my mind to.\n",
            "That's right! :)\n"
          ]
        }
      ]
    },
    {
      "cell_type": "code",
      "source": [
        "print(\"04_liftoff\")\n",
        "\n",
        "def liftoff():\n",
        "    for i in range(10, 0, -1):\n",
        "        print(i, end = \" \")\n",
        "    print(\"Liftoff!\")\n",
        "\n",
        "if __name__ == \"__main__\":\n",
        "    liftoff()"
      ],
      "metadata": {
        "colab": {
          "base_uri": "https://localhost:8080/"
        },
        "id": "EEcSkDXPAUUO",
        "outputId": "435cdd79-2798-4d96-b87a-0c02b909df3a"
      },
      "execution_count": 8,
      "outputs": [
        {
          "output_type": "stream",
          "name": "stdout",
          "text": [
            "04_liftoff\n",
            "10 9 8 7 6 5 4 3 2 1 Liftoff!\n"
          ]
        }
      ]
    },
    {
      "cell_type": "code",
      "source": [
        "print(\"05_double_it\")\n",
        "\n",
        "def double():\n",
        "  num_value = int(input(\"Enter a Number: \"))\n",
        "  while num_value < 100:\n",
        "    num_value = num_value * 2\n",
        "    print(num_value)\n",
        "\n",
        "if __name__ == \"__main__\":\n",
        "  double()"
      ],
      "metadata": {
        "colab": {
          "base_uri": "https://localhost:8080/"
        },
        "id": "_pFya-fVCiX0",
        "outputId": "2a014820-7662-4618-8f53-f6edb45a8dc9"
      },
      "execution_count": 10,
      "outputs": [
        {
          "output_type": "stream",
          "name": "stdout",
          "text": [
            "05_double_it\n",
            "Enter a Number: 10\n",
            "20\n",
            "40\n",
            "80\n",
            "160\n"
          ]
        }
      ]
    }
  ]
}