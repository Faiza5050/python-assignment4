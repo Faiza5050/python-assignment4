{
  "nbformat": 4,
  "nbformat_minor": 0,
  "metadata": {
    "colab": {
      "provenance": [],
      "authorship_tag": "ABX9TyNNBLHb9RvFdLNy6VNIFmib",
      "include_colab_link": true
    },
    "kernelspec": {
      "name": "python3",
      "display_name": "Python 3"
    },
    "language_info": {
      "name": "python"
    }
  },
  "cells": [
    {
      "cell_type": "markdown",
      "metadata": {
        "id": "view-in-github",
        "colab_type": "text"
      },
      "source": [
        "<a href=\"https://colab.research.google.com/github/Faiza5050/python-assignment4/blob/main/06_functions.ipynb\" target=\"_parent\"><img src=\"https://colab.research.google.com/assets/colab-badge.svg\" alt=\"Open In Colab\"/></a>"
      ]
    },
    {
      "cell_type": "code",
      "execution_count": 4,
      "metadata": {
        "colab": {
          "base_uri": "https://localhost:8080/"
        },
        "id": "9qf-nHThFVqW",
        "outputId": "28176888-ef3f-4021-a14d-f9b84984dfda"
      },
      "outputs": [
        {
          "output_type": "stream",
          "name": "stdout",
          "text": [
            "00_averages\n",
            "Enter First Number: 10\n",
            "Enter Second Number: 5\n",
            "Average of 10.0 and 5.0 is: 7.50\n"
          ]
        }
      ],
      "source": [
        "print(\"00_averages\")\n",
        "\n",
        "def calculate_average(num1, num2):\n",
        "    return (num1 + num2) / 2\n",
        "\n",
        "def average():\n",
        "    num1 = float(input(\"Enter First Number: \"))\n",
        "    num2 = float(input(\"Enter Second Number: \"))\n",
        "\n",
        "    avg = calculate_average(num1, num2)\n",
        "    print(f\"Average of {num1} and {num2} is: {avg:.2f}\")\n",
        "\n",
        "if __name__ == \"__main__\":\n",
        "    average()"
      ]
    },
    {
      "cell_type": "code",
      "source": [
        "import random\n",
        "\n",
        "print(\"01_chaotic_counting\")\n",
        "\n",
        "DONE_LIKELIHOOD = 0.3\n",
        "\n",
        "def done():\n",
        "    return random.random() < DONE_LIKELIHOOD\n",
        "\n",
        "def chaotic_counting():\n",
        "    for i in range(1, 11):\n",
        "        if done():\n",
        "            return\n",
        "        print(i, end=\" \")\n",
        "\n",
        "def main():\n",
        "    print(\"I'm going to count until 10 or until I feel like stopping, whichever comes first.\")\n",
        "    chaotic_counting()\n",
        "    print(\"\\nI'm done.\")\n",
        "\n",
        "if __name__ == '__main__':\n",
        "    main()"
      ],
      "metadata": {
        "colab": {
          "base_uri": "https://localhost:8080/"
        },
        "id": "jwtzEL93H0Q0",
        "outputId": "e7c4c373-42ac-4040-e3b7-883814380ef8"
      },
      "execution_count": 9,
      "outputs": [
        {
          "output_type": "stream",
          "name": "stdout",
          "text": [
            "01_chaotic_counting\n",
            "I'm going to count until 10 or until I feel like stopping, whichever comes first.\n",
            "1 2 3 4 5 6 7 \n",
            "I'm done.\n"
          ]
        }
      ]
    },
    {
      "cell_type": "code",
      "source": [
        "print(\"02_count_even\")\n",
        "\n",
        "def count_even(lst):\n",
        "    even_count = 0\n",
        "    for num in lst:\n",
        "        if num % 2 == 0:\n",
        "            even_count += 1\n",
        "    return even_count\n",
        "\n",
        "def count():\n",
        "    numbers = []\n",
        "\n",
        "    while True:\n",
        "        user_input = input(\"Enter an integer or Press Enter to Stop: \")\n",
        "        if user_input == \"\":\n",
        "            break\n",
        "        try:\n",
        "            num = int(user_input)\n",
        "            numbers.append(num)\n",
        "        except ValueError:\n",
        "            print(\"❌ Invalid input! Please Enter a Valid integer.\")\n",
        "\n",
        "    result = count_even(numbers)\n",
        "    print(f\"Number of Even integers: {result}\")\n",
        "\n",
        "if __name__ == '__main__':\n",
        "    count()\n"
      ],
      "metadata": {
        "colab": {
          "base_uri": "https://localhost:8080/"
        },
        "id": "Uh2YSzmELLI1",
        "outputId": "c0dc8bf2-427a-4c9e-8905-89840b809ff2"
      },
      "execution_count": 11,
      "outputs": [
        {
          "output_type": "stream",
          "name": "stdout",
          "text": [
            "02_count_even\n",
            "Enter an integer or Press Enter to Stop: 1\n",
            "Enter an integer or Press Enter to Stop: vf\n",
            "❌ Invalid input! Please Enter a Valid integer.\n",
            "Enter an integer or Press Enter to Stop: 5\n",
            "Enter an integer or Press Enter to Stop: 2\n",
            "Enter an integer or Press Enter to Stop: 8\n",
            "Enter an integer or Press Enter to Stop: 6\n",
            "Enter an integer or Press Enter to Stop: 3\n",
            "Enter an integer or Press Enter to Stop: \n",
            "Number of Even integers: 3\n"
          ]
        }
      ]
    },
    {
      "cell_type": "code",
      "source": [
        "print(\"04_double\")\n",
        "\n",
        "def double(num):\n",
        "    return num * 2\n",
        "\n",
        "def main():\n",
        "    user_input = input(\"Enter a Number: \")\n",
        "    try:\n",
        "        num = float(user_input)\n",
        "        result = double(num)\n",
        "        print(f\"Double that is {result}\")\n",
        "    except ValueError:\n",
        "        print(\"❌ Invalid input! Please Enter a Valid Number.\")\n",
        "\n",
        "if __name__ == '__main__':\n",
        "    main()\n"
      ],
      "metadata": {
        "colab": {
          "base_uri": "https://localhost:8080/"
        },
        "id": "WAk9SeMtNvoi",
        "outputId": "382c0bce-2a63-4a21-94be-412e78197881"
      },
      "execution_count": 13,
      "outputs": [
        {
          "output_type": "stream",
          "name": "stdout",
          "text": [
            "04_double\n",
            "Enter a Number: 3.2\n",
            "Double that is 6.4\n"
          ]
        }
      ]
    },
    {
      "cell_type": "code",
      "source": [
        "print(\"05_get_name\")\n",
        "\n",
        "def get_name():\n",
        "    return \"Sophia\"\n",
        "\n",
        "def greeting():\n",
        "    name = get_name()\n",
        "    print(f\"Howdy {name}!\")\n",
        "\n",
        "if __name__ == '__main__':\n",
        "    greeting()\n"
      ],
      "metadata": {
        "colab": {
          "base_uri": "https://localhost:8080/"
        },
        "id": "NsypSeyAPil-",
        "outputId": "61719215-b763-4192-df59-78a9a7bae4b8"
      },
      "execution_count": 14,
      "outputs": [
        {
          "output_type": "stream",
          "name": "stdout",
          "text": [
            "05_get_name\n",
            "Howdy Sophia!\n"
          ]
        }
      ]
    },
    {
      "cell_type": "code",
      "source": [
        "print(\"06_is_odd\")\n",
        "\n",
        "def main():\n",
        "    for i in range(10, 20):\n",
        "        if is_odd(i):\n",
        "            print(i, \"odd\")\n",
        "        else:\n",
        "            print(i, \"even\")\n",
        "\n",
        "def is_odd(value: int):\n",
        "    \"\"\"\n",
        "    Checks to see if a value is odd. If it is, returns true.\n",
        "    \"\"\"\n",
        "    remainder = value % 2\n",
        "    return remainder == 1\n",
        "\n",
        "if __name__ == '__main__':\n",
        "    main()\n"
      ],
      "metadata": {
        "colab": {
          "base_uri": "https://localhost:8080/"
        },
        "id": "GkfnOwa3Q18S",
        "outputId": "3e794132-afdb-4ef6-a617-d85bee313386"
      },
      "execution_count": 15,
      "outputs": [
        {
          "output_type": "stream",
          "name": "stdout",
          "text": [
            "06_is_odd\n",
            "10 even\n",
            "11 odd\n",
            "12 even\n",
            "13 odd\n",
            "14 even\n",
            "15 odd\n",
            "16 even\n",
            "17 odd\n",
            "18 even\n",
            "19 odd\n"
          ]
        }
      ]
    },
    {
      "cell_type": "code",
      "source": [
        "print(\"07_print_divisor\")\n",
        "\n",
        "def print_divisors(num):\n",
        "    \"\"\"Prints all divisors of a given number\"\"\"\n",
        "    print(f\"Here are the Divisors of {num}: \")\n",
        "    for i in range(1, num + 1):\n",
        "        if num % i == 0:\n",
        "            print(i, end=\" \")\n",
        "    print()\n",
        "\n",
        "def divisors():\n",
        "    num = int(input(\"Enter a Number: \"))\n",
        "    print_divisors(num)\n",
        "\n",
        "if __name__ == '__main__':\n",
        "    divisors()"
      ],
      "metadata": {
        "colab": {
          "base_uri": "https://localhost:8080/"
        },
        "id": "pZBlD6vKtYKj",
        "outputId": "f7e4c5c9-f0fe-42a0-8af1-4f454f41e3bf"
      },
      "execution_count": 20,
      "outputs": [
        {
          "output_type": "stream",
          "name": "stdout",
          "text": [
            "07_print_divisor\n",
            "Enter a Number: 15\n",
            "Here are the Divisors of 15: \n",
            "1 3 5 15 \n"
          ]
        }
      ]
    },
    {
      "cell_type": "code",
      "source": [
        "print(\"08_print_multiple\")\n",
        "\n",
        "def print_multiple(message: str, repeats: int):\n",
        "    for i in range(repeats):\n",
        "        print(message)\n",
        "\n",
        "def multiple():\n",
        "    message = input(\"Please type a Message: \")\n",
        "    repeats = int(input(\"Enter a Number of Times to Repeat Your Message: \"))\n",
        "    print_multiple(message, repeats)\n",
        "\n",
        "if __name__ == '__main__':\n",
        "    multiple()"
      ],
      "metadata": {
        "colab": {
          "base_uri": "https://localhost:8080/"
        },
        "id": "Jmi5IJAvvDjL",
        "outputId": "09b6ff92-02c6-4db2-d796-2127be1d1f96"
      },
      "execution_count": 21,
      "outputs": [
        {
          "output_type": "stream",
          "name": "stdout",
          "text": [
            "08_print_multiple\n",
            "Please type a Message: Hello\n",
            "Enter a Number of Times to Repeat Your Message: 6\n",
            "Hello\n",
            "Hello\n",
            "Hello\n",
            "Hello\n",
            "Hello\n",
            "Hello\n"
          ]
        }
      ]
    },
    {
      "cell_type": "code",
      "source": [
        "print(\"09_sentence_generator\")\n",
        "\n",
        "def make_sentence(word, part_of_speech):\n",
        "    if part_of_speech == 0:\n",
        "        print(\"I am Excited to add this \" + word + \" to my vast collection of them!\")\n",
        "    elif part_of_speech == 1:\n",
        "        print(\"It's so Nice Outside Today it makes me want to \" + word + \"!\")\n",
        "    elif part_of_speech == 2:\n",
        "        print(\"Looking out my Window, The Sky is Big and \" + word + \"!\")\n",
        "    else:\n",
        "        print(\"Part of Speech must be 0, 1, or 2! Can't make a Sentence.\")\n",
        "\n",
        "def sentence():\n",
        "    word = input(\"Please type a Noun, Verb, or Adjective: \")\n",
        "    print(\"Is this a Noun, Verb, or Adjective?\")\n",
        "    part_of_speech = int(input(\"Type 0 for Noun, 1 for Verb, 2 for Adjective: \"))\n",
        "    make_sentence(word, part_of_speech)\n",
        "\n",
        "if __name__ == '__main__':\n",
        "    sentence()"
      ],
      "metadata": {
        "colab": {
          "base_uri": "https://localhost:8080/"
        },
        "id": "OdNWwNjQwwCi",
        "outputId": "88c50888-c80c-4035-c5c8-5dd1670d8bdd"
      },
      "execution_count": 28,
      "outputs": [
        {
          "output_type": "stream",
          "name": "stdout",
          "text": [
            "09_sentence_generator\n",
            "Please type a Noun, Verb, or Adjective: car\n",
            "Is this a Noun, Verb, or Adjective?\n",
            "Type 0 for Noun, 1 for Verb, 2 for Adjective: 0\n",
            "I am Excited to add this car to my vast collection of them!\n"
          ]
        }
      ]
    },
    {
      "cell_type": "code",
      "source": [
        "print(\"10_print_ones_digit\")\n",
        "\n",
        "def print_ones_digit(num: int):\n",
        "    ones_digit = num % 10\n",
        "    print(\"The Ones Digit is:\", ones_digit)\n",
        "\n",
        "def ones():\n",
        "    num = int(input(\"Enter a Number: \"))\n",
        "    print_ones_digit(num)\n",
        "\n",
        "if __name__ == '__main__':\n",
        "    ones()"
      ],
      "metadata": {
        "colab": {
          "base_uri": "https://localhost:8080/"
        },
        "id": "8OIM3HRbzgMa",
        "outputId": "8f49aa8b-962b-4c41-f7af-c905bf883de8"
      },
      "execution_count": 31,
      "outputs": [
        {
          "output_type": "stream",
          "name": "stdout",
          "text": [
            "10_print_ones_digit\n",
            "Enter a Number: 5459\n",
            "The Ones Digit is: 9\n"
          ]
        }
      ]
    }
  ]
}