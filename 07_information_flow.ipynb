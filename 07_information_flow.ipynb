{
  "nbformat": 4,
  "nbformat_minor": 0,
  "metadata": {
    "colab": {
      "provenance": [],
      "authorship_tag": "ABX9TyPESOX2SlNCNudC73uUBFxL",
      "include_colab_link": true
    },
    "kernelspec": {
      "name": "python3",
      "display_name": "Python 3"
    },
    "language_info": {
      "name": "python"
    }
  },
  "cells": [
    {
      "cell_type": "markdown",
      "metadata": {
        "id": "view-in-github",
        "colab_type": "text"
      },
      "source": [
        "<a href=\"https://colab.research.google.com/github/Faiza5050/python-assignment4/blob/main/07_information_flow.ipynb\" target=\"_parent\"><img src=\"https://colab.research.google.com/assets/colab-badge.svg\" alt=\"Open In Colab\"/></a>"
      ]
    },
    {
      "cell_type": "code",
      "execution_count": 4,
      "metadata": {
        "colab": {
          "base_uri": "https://localhost:8080/"
        },
        "id": "2ihTfQ6y19Gm",
        "outputId": "d38d70d9-7b40-4c4f-f4e0-a7a2d1916903"
      },
      "outputs": [
        {
          "output_type": "stream",
          "name": "stdout",
          "text": [
            "00_choosing_returns\n",
            "How Old is this Person?: 25\n",
            "Entered age is an Adult Age.\n",
            "True\n"
          ]
        }
      ],
      "source": [
        "print(\"00_choosing_returns\")\n",
        "\n",
        "ADULT_AGE: int = 18\n",
        "\n",
        "def is_adult(age: int):\n",
        "    if age >= ADULT_AGE:\n",
        "        print(\"Entered age is an Adult Age.\")\n",
        "        return True\n",
        "    else:\n",
        "        print(\"Entered age is not an Adult Age.\")\n",
        "        return False\n",
        "\n",
        "def adult():\n",
        "    age: int = int(input(\"How Old is this Person?: \"))\n",
        "    print(is_adult(age))\n",
        "\n",
        "if __name__ == \"__main__\":\n",
        "    adult()"
      ]
    },
    {
      "cell_type": "code",
      "source": [
        "print(\"01_greetings\")\n",
        "\n",
        "def greet(name: str):\n",
        "    print(\"Greetings \" + name + \"!\")\n",
        "\n",
        "def main():\n",
        "    name: str = input(\"What's Your Name? \")\n",
        "    greet(name)\n",
        "\n",
        "if __name__ == '__main__':\n",
        "    main()"
      ],
      "metadata": {
        "colab": {
          "base_uri": "https://localhost:8080/"
        },
        "id": "pjmaaLpm6BUg",
        "outputId": "475902d5-b78c-4d27-d761-8013d4fd81df"
      },
      "execution_count": 5,
      "outputs": [
        {
          "output_type": "stream",
          "name": "stdout",
          "text": [
            "01_greetings\n",
            "What's Your Name? faiza\n",
            "Greetings faiza!\n"
          ]
        }
      ]
    },
    {
      "cell_type": "code",
      "source": [
        "print(\"02_in_range\")\n",
        "\n",
        "def in_range(n, low, high):\n",
        "    \"\"\"\n",
        "    Returns True if n is between Low and High, inclusive.\n",
        "    High is Guaranteed to be Greater than Low.\n",
        "    \"\"\"\n",
        "    if n >= low and n <= high:\n",
        "        return True\n",
        "    return False\n",
        "\n",
        "def range():\n",
        "    n = int(input(\"Enter a Number: \"))\n",
        "    low = int(input(\"Enter the Low Value: \"))\n",
        "    high = int(input(\"Enter the High Value: \"))\n",
        "\n",
        "    print(in_range(n, low, high))\n",
        "\n",
        "if __name__ == '__main__':\n",
        "    range()"
      ],
      "metadata": {
        "colab": {
          "base_uri": "https://localhost:8080/"
        },
        "id": "9zZdM_kU7Bmo",
        "outputId": "e79fe2ef-6fa1-4999-b8d4-133c5f3af50e"
      },
      "execution_count": 12,
      "outputs": [
        {
          "output_type": "stream",
          "name": "stdout",
          "text": [
            "02_in_range\n",
            "Enter a Number: 30\n",
            "Enter the Low Value: 20\n",
            "Enter the High Value: 31\n",
            "True\n"
          ]
        }
      ]
    },
    {
      "cell_type": "code",
      "source": [
        "print(\"03_in_stock\")\n",
        "\n",
        "def num_in_stock(fruit: str) -> int:\n",
        "    \"\"\"\n",
        "    This function returns the number of fruit Sophia has in stock.\n",
        "    \"\"\"\n",
        "    if fruit == 'apple':\n",
        "        return 2\n",
        "    if fruit == 'cherry':\n",
        "        return 4\n",
        "    if fruit == 'pear':\n",
        "        return 1000\n",
        "    else:\n",
        "        return 0\n",
        "\n",
        "def main():\n",
        "    fruit: str = input(\"Enter a Fruit: \")\n",
        "    stock = num_in_stock(fruit)\n",
        "\n",
        "    if stock == 0:\n",
        "        print(\"This Fruit is Not in Stock.\")\n",
        "    else:\n",
        "        print(\"This Fruit is in Stock! Here is How many:\")\n",
        "        print(stock)\n",
        "\n",
        "if __name__ == '__main__':\n",
        "    main()"
      ],
      "metadata": {
        "colab": {
          "base_uri": "https://localhost:8080/"
        },
        "id": "nHkBdBsW9eRe",
        "outputId": "67f3795b-8a00-4240-fa50-bd9db426b60e"
      },
      "execution_count": 15,
      "outputs": [
        {
          "output_type": "stream",
          "name": "stdout",
          "text": [
            "03_in_stock\n",
            "Enter a Fruit: cherry\n",
            "This Fruit is in Stock! Here is How many:\n",
            "4\n"
          ]
        }
      ]
    },
    {
      "cell_type": "code",
      "source": [
        "print(\"04_multiple_returns\")\n",
        "\n",
        "def get_user_info():\n",
        "    first_name: str = input(\"What is Your First Name?: \")\n",
        "    last_name: str = input(\"What is Your Last Name?: \")\n",
        "    email_address: str = input(\"What is Your Email Address?: \")\n",
        "\n",
        "    return first_name, last_name, email_address\n",
        "\n",
        "def main():\n",
        "    user_data = get_user_info()\n",
        "    print(\"Received the following User Data:\", user_data)\n",
        "\n",
        "if __name__ == \"__main__\":\n",
        "    main()"
      ],
      "metadata": {
        "colab": {
          "base_uri": "https://localhost:8080/"
        },
        "id": "NZp5eRUy_mH4",
        "outputId": "98fc48fe-e484-49ca-a178-2897b12e4c63"
      },
      "execution_count": 16,
      "outputs": [
        {
          "output_type": "stream",
          "name": "stdout",
          "text": [
            "04_multiple_returns\n",
            "What is Your First Name?: faiza\n",
            "What is Your Last Name?: kanwal\n",
            "What is Your Email Address?: faiza@email.com\n",
            "Received the following User Data: ('faiza', 'kanwal', 'faiza@email.com')\n"
          ]
        }
      ]
    },
    {
      "cell_type": "code",
      "source": [
        "print(\"05_subtract_7\")\n",
        "\n",
        "def subtract_seven(num):\n",
        "    return num - 7\n",
        "\n",
        "def seven():\n",
        "    num: int = 7\n",
        "    num = subtract_seven(num)\n",
        "    print(\"This Should be Zero:\", num)\n",
        "\n",
        "    try:\n",
        "        user_input = float(input(\"Enter a Number: \"))\n",
        "    except ValueError:\n",
        "        print(\"❌ Please Enter a Valid Number.\")\n",
        "        return\n",
        "\n",
        "    result = subtract_seven(user_input)\n",
        "    print(f\"After Subtracting 7, the Result is: {result}\")\n",
        "\n",
        "if __name__ == '__main__':\n",
        "    seven()"
      ],
      "metadata": {
        "colab": {
          "base_uri": "https://localhost:8080/"
        },
        "id": "Pdp8qbh0CFfq",
        "outputId": "f154e3e2-1fbe-478d-cba6-d24ae8fac656"
      },
      "execution_count": 22,
      "outputs": [
        {
          "output_type": "stream",
          "name": "stdout",
          "text": [
            "05_subtract_7\n",
            "This Should be Zero: 0\n",
            "Enter a Number: 20\n",
            "After Subtracting 7, the Result is: 13.0\n"
          ]
        }
      ]
    }
  ]
}