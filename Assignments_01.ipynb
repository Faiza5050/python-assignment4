{
  "nbformat": 4,
  "nbformat_minor": 0,
  "metadata": {
    "colab": {
      "provenance": [],
      "authorship_tag": "ABX9TyMiuZseXIL+/CHwNEHS/sPK",
      "include_colab_link": true
    },
    "kernelspec": {
      "name": "python3",
      "display_name": "Python 3"
    },
    "language_info": {
      "name": "python"
    }
  },
  "cells": [
    {
      "cell_type": "markdown",
      "metadata": {
        "id": "view-in-github",
        "colab_type": "text"
      },
      "source": [
        "<a href=\"https://colab.research.google.com/github/Faiza5050/python-assignment4/blob/main/Assignments_01.ipynb\" target=\"_parent\"><img src=\"https://colab.research.google.com/assets/colab-badge.svg\" alt=\"Open In Colab\"/></a>"
      ]
    },
    {
      "cell_type": "code",
      "execution_count": 11,
      "metadata": {
        "id": "kqbzWM48JRCh",
        "colab": {
          "base_uri": "https://localhost:8080/"
        },
        "outputId": "d5c748e5-c09c-405c-f78e-29c2ad5024aa"
      },
      "outputs": [
        {
          "output_type": "stream",
          "name": "stdout",
          "text": [
            "01_basics\n",
            "00_joke_bot\n",
            "What do You Want? joke\n",
            "Here is a joke for You! \n",
            "Panaversity GPT - Sophia is heading out to the Grocery Store. A Programmer tells her: Get a Liter of Milk, and if they have Eggs, Get 12. \n",
            "Sophia returns with 13 Liters of Milk. The Programmer asks Why and Sophia Replies: 'Because they had Eggs'.\n"
          ]
        }
      ],
      "source": [
        "print(\"01_basics\")\n",
        "print(\"00_joke_bot\")\n",
        "\n",
        "PROMPT: str = \"What do You Want? \"\n",
        "JOKE: str = \"Here is a joke for You! \\nPanaversity GPT - Sophia is heading out to the Grocery Store. A Programmer tells her: Get a Liter of Milk, and if they have Eggs, Get 12. \\nSophia returns with 13 Liters of Milk. The Programmer asks Why and Sophia Replies: 'Because they had Eggs'.\"\n",
        "SORRY: str = \"Sorry I only tell jokes\"\n",
        "\n",
        "def jokes():\n",
        "    user_input = input(PROMPT)\n",
        "\n",
        "    if user_input == \"joke\":\n",
        "        print(JOKE)\n",
        "    else:\n",
        "        print(SORRY)\n",
        "\n",
        "if __name__ == \"__main__\":\n",
        "    jokes()"
      ]
    },
    {
      "cell_type": "code",
      "source": [
        "print(\"01_double_it\")\n",
        "\n",
        "def double():\n",
        "    user_value = int(input(\"Enter a Number: \"))\n",
        "\n",
        "    while user_value < 100:\n",
        "        user_value = user_value * 2\n",
        "        print(user_value)\n",
        "\n",
        "if __name__ == \"__main__\":\n",
        "    double()"
      ],
      "metadata": {
        "colab": {
          "base_uri": "https://localhost:8080/"
        },
        "id": "vjv4wvlavuPI",
        "outputId": "af70a95e-48b0-46c3-8027-fab0c2e2b722"
      },
      "execution_count": 12,
      "outputs": [
        {
          "output_type": "stream",
          "name": "stdout",
          "text": [
            "01_double_it\n",
            "Enter a Number: 5\n",
            "10\n",
            "20\n",
            "40\n",
            "80\n",
            "160\n"
          ]
        }
      ]
    },
    {
      "cell_type": "code",
      "source": [
        "print(\"02_liftoff\")\n",
        "\n",
        "def liftoff():\n",
        "    for i in range(10, 0, -1):\n",
        "        print(i)\n",
        "\n",
        "    print(\"Liftoff!\")\n",
        "\n",
        "if __name__ == \"__main__\":\n",
        "    liftoff()"
      ],
      "metadata": {
        "colab": {
          "base_uri": "https://localhost:8080/"
        },
        "id": "85FhFgxJxlDl",
        "outputId": "1e8a1529-8cd7-4d3d-ca7a-f390247247b2"
      },
      "execution_count": 13,
      "outputs": [
        {
          "output_type": "stream",
          "name": "stdout",
          "text": [
            "02_liftoff\n",
            "10\n",
            "9\n",
            "8\n",
            "7\n",
            "6\n",
            "5\n",
            "4\n",
            "3\n",
            "2\n",
            "1\n",
            "Liftoff!\n"
          ]
        }
      ]
    },
    {
      "cell_type": "code",
      "source": [
        "import random\n",
        "print(\"03_guess_my_number\")\n",
        "\n",
        "def main():\n",
        "  secret_number: int = random.randint(1, 99)\n",
        "  print(\"I am Thinking of a Number Between 1 and 99...\")\n",
        "\n",
        "  guess: int = int(input(\"Enter a Guess Number: \"))\n",
        "\n",
        "  while guess != secret_number:\n",
        "        if guess < secret_number:\n",
        "            print(\"Your Guess is too Low\")\n",
        "        else:\n",
        "            print(\"Your Guess is too High\")\n",
        "\n",
        "        print()\n",
        "        guess = int(input(\"Enter a New Number: \"))\n",
        "\n",
        "  print(\"Congrats! The Number was: \" + str(secret_number))\n",
        "\n",
        "if __name__ == \"__main__\":\n",
        "    main()"
      ],
      "metadata": {
        "colab": {
          "base_uri": "https://localhost:8080/"
        },
        "id": "UgrChC-byuLa",
        "outputId": "a00dcee6-6bed-4d4c-857b-330c9f5dc162"
      },
      "execution_count": 18,
      "outputs": [
        {
          "output_type": "stream",
          "name": "stdout",
          "text": [
            "03_guess_my_number\n",
            "I am Thinking of a Number Between 1 and 99...\n",
            "Enter a Guess Number: 50\n",
            "Your Guess is too High\n",
            "\n",
            "Enter a New Number: 30\n",
            "Your Guess is too High\n",
            "\n",
            "Enter a New Number: 10\n",
            "Your Guess is too Low\n",
            "\n",
            "Enter a New Number: 20\n",
            "Your Guess is too High\n",
            "\n",
            "Enter a New Number: 15\n",
            "Your Guess is too Low\n",
            "\n",
            "Enter a New Number: 18\n",
            "Congrats! The Number was: 18\n"
          ]
        }
      ]
    },
    {
      "cell_type": "code",
      "source": [
        "import random\n",
        "print(\"04_random_numbers\")\n",
        "\n",
        "N_NUMBERS: int = 10\n",
        "MIN_VALUE: int = 1\n",
        "MAX_VALUE: int = 100\n",
        "\n",
        "def random_num():\n",
        "  for _ in range(N_NUMBERS):\n",
        "        value = random.randint(MIN_VALUE, MAX_VALUE)\n",
        "        print(value)\n",
        "\n",
        "if __name__ == '__main__':\n",
        "    random_num()"
      ],
      "metadata": {
        "colab": {
          "base_uri": "https://localhost:8080/"
        },
        "id": "Yd4Az-pJ1Fhl",
        "outputId": "10785afc-aa0c-4c5a-c986-e67ec6eb24a8"
      },
      "execution_count": 23,
      "outputs": [
        {
          "output_type": "stream",
          "name": "stdout",
          "text": [
            "04_random_numbers\n",
            "6\n",
            "44\n",
            "3\n",
            "48\n",
            "9\n",
            "47\n",
            "52\n",
            "15\n",
            "76\n",
            "3\n"
          ]
        }
      ]
    },
    {
      "cell_type": "code",
      "source": [
        "print(\"02_intermediate\")\n",
        "\n",
        "import random\n",
        "\n",
        "print(\"Control Flow for Console - handout - High Low\")\n",
        "\n",
        "NUM_ROUNDS = 5\n",
        "\n",
        "def game():\n",
        "    print(\"Welcome to the High-Low Game!\")\n",
        "    print('--------------------------------')\n",
        "\n",
        "    your_score = 0\n",
        "\n",
        "    for round_num in range(1, NUM_ROUNDS + 1):\n",
        "        print(f\"Round {round_num}\")\n",
        "\n",
        "        your_num = random.randint(1, 100)\n",
        "        computer_num = random.randint(1, 100)\n",
        "        print(\"Your Number is\", your_num)\n",
        "\n",
        "        choice = input(\"Do You Think Your Number is Higher or Lower than the Computer's?: \")\n",
        "\n",
        "        while choice != \"higher\" and choice != \"lower\":\n",
        "            choice = input(\"Please Enter Either Higher or Lower: \")\n",
        "\n",
        "        higher_and_correct = choice == \"higher\" and your_num > computer_num\n",
        "        lower_and_correct = choice == \"lower\" and your_num < computer_num\n",
        "\n",
        "        if higher_and_correct or lower_and_correct:\n",
        "          print(\"You were Right! The Computer's Number was: \", computer_num)\n",
        "          your_score += 1\n",
        "        else:\n",
        "            print(\"Aww, That's incorrect. The Computer's Number was: \", computer_num)\n",
        "\n",
        "        print(\"Your Score is Now: \", your_score)\n",
        "        print()\n",
        "\n",
        "    print(\"Thanks for Playing!\")\n",
        "    print(\"Your Final Score is: \", your_score)\n",
        "\n",
        "    if your_score == NUM_ROUNDS:\n",
        "        print(\"Wow! You Played Perfectly!\")\n",
        "    elif your_score > NUM_ROUNDS // 2:\n",
        "        print(\"Good job, You Played Really Well!\")\n",
        "    else:\n",
        "        print(\"Better Luck Next Time!\")\n",
        "\n",
        "if __name__ == \"__main__\":\n",
        "    game()"
      ],
      "metadata": {
        "colab": {
          "base_uri": "https://localhost:8080/"
        },
        "id": "w3BrV8Bu23H-",
        "outputId": "89516d94-6f40-4516-b8f0-1fb061fc5767"
      },
      "execution_count": 25,
      "outputs": [
        {
          "output_type": "stream",
          "name": "stdout",
          "text": [
            "02_intermediate\n",
            "Control Flow for Console - handout - High Low\n",
            "Welcome to the High-Low Game!\n",
            "--------------------------------\n",
            "Round 1\n",
            "Your Number is 37\n",
            "Do You Think Your Number is Higher or Lower than the Computer's?: higher\n",
            "Aww, That's incorrect. The Computer's Number was:  82\n",
            "Your Score is Now:  0\n",
            "\n",
            "Round 2\n",
            "Your Number is 57\n",
            "Do You Think Your Number is Higher or Lower than the Computer's?: higher\n",
            "You were Right! The Computer's Number was:  14\n",
            "Your Score is Now:  1\n",
            "\n",
            "Round 3\n",
            "Your Number is 4\n",
            "Do You Think Your Number is Higher or Lower than the Computer's?: lower\n",
            "You were Right! The Computer's Number was:  5\n",
            "Your Score is Now:  2\n",
            "\n",
            "Round 4\n",
            "Your Number is 15\n",
            "Do You Think Your Number is Higher or Lower than the Computer's?: lower\n",
            "You were Right! The Computer's Number was:  29\n",
            "Your Score is Now:  3\n",
            "\n",
            "Round 5\n",
            "Your Number is 45\n",
            "Do You Think Your Number is Higher or Lower than the Computer's?: higher\n",
            "You were Right! The Computer's Number was:  31\n",
            "Your Score is Now:  4\n",
            "\n",
            "Thanks for Playing!\n",
            "Your Final Score is:  4\n",
            "Good job, You Played Really Well!\n"
          ]
        }
      ]
    }
  ]
}